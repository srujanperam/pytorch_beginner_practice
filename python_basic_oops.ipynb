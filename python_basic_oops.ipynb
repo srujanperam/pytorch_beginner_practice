{
  "nbformat": 4,
  "nbformat_minor": 0,
  "metadata": {
    "colab": {
      "provenance": [],
      "authorship_tag": "ABX9TyNOIeevHJ7efKdPC/sYPpec",
      "include_colab_link": true
    },
    "kernelspec": {
      "name": "python3",
      "display_name": "Python 3"
    },
    "language_info": {
      "name": "python"
    }
  },
  "cells": [
    {
      "cell_type": "markdown",
      "metadata": {
        "id": "view-in-github",
        "colab_type": "text"
      },
      "source": [
        "<a href=\"https://colab.research.google.com/github/srujanperam/pytorch_beginner_practice/blob/main/python_basic_oops.ipynb\" target=\"_parent\"><img src=\"https://colab.research.google.com/assets/colab-badge.svg\" alt=\"Open In Colab\"/></a>"
      ]
    },
    {
      "cell_type": "code",
      "execution_count": 1,
      "metadata": {
        "colab": {
          "base_uri": "https://localhost:8080/"
        },
        "id": "0MC5ir6xuB3t",
        "outputId": "020809c8-4656-4746-91de-673e9e786285"
      },
      "outputs": [
        {
          "output_type": "stream",
          "name": "stdout",
          "text": [
            "The red car is moving at 60 mph.\n",
            "The blue car is moving at 70 mph.\n"
          ]
        }
      ],
      "source": [
        "class Car: # blueprint for object\n",
        "    def __init__(self, color, speed):\n",
        "        self.color = color # attributes\n",
        "        self.speed = speed  # attributes\n",
        "\n",
        "    def move(self):\n",
        "      print(f\"The {self.color} car is moving at {self.speed} mph.\")\n",
        "\n",
        "red_car = Car(\"red\", 60) # object - real world things created from the blueprint\n",
        "red_car.move() # method - are like actions that object can perform\n",
        "\n",
        "blue_car = Car(\"blue\", 70)\n",
        "blue_car.move()"
      ]
    },
    {
      "cell_type": "markdown",
      "source": [
        "### Inheritance"
      ],
      "metadata": {
        "id": "wWQVhhlQw-g_"
      }
    },
    {
      "cell_type": "code",
      "source": [
        "class Toy:\n",
        "    def __init__(self, color, shape):\n",
        "        self.color = color\n",
        "        self.shape = shape\n",
        "\n",
        "    def play(self):\n",
        "        print(f\"Let's play with the {self.color} toy!\")"
      ],
      "metadata": {
        "id": "kPwWPNVgukkZ"
      },
      "execution_count": 2,
      "outputs": []
    },
    {
      "cell_type": "code",
      "source": [
        "red_car = Toy(\"red\", \"small\")"
      ],
      "metadata": {
        "id": "Tw5_Rh6wv3NB"
      },
      "execution_count": 5,
      "outputs": []
    },
    {
      "cell_type": "code",
      "source": [
        "red_car.play()"
      ],
      "metadata": {
        "colab": {
          "base_uri": "https://localhost:8080/"
        },
        "id": "QZiO-3qDwAGE",
        "outputId": "f233600b-132f-40de-b370-3f35196ede04"
      },
      "execution_count": 8,
      "outputs": [
        {
          "output_type": "stream",
          "name": "stdout",
          "text": [
            "Let's play with the red toy!\n"
          ]
        }
      ]
    },
    {
      "cell_type": "code",
      "source": [
        "class FlyingCar(Toy):\n",
        "  def __init__(self, color, shape):\n",
        "    super().__init__(color, shape)\n",
        "  def fly(self):\n",
        "    print(f\"The {self.color} toy is flying!\")"
      ],
      "metadata": {
        "id": "JULR6XNdwGl1"
      },
      "execution_count": 11,
      "outputs": []
    },
    {
      "cell_type": "code",
      "source": [
        "n = FlyingCar(\"blue\", \"medium\")"
      ],
      "metadata": {
        "id": "IYMPbr_PwlfZ"
      },
      "execution_count": 12,
      "outputs": []
    },
    {
      "cell_type": "code",
      "source": [
        "n.fly()"
      ],
      "metadata": {
        "colab": {
          "base_uri": "https://localhost:8080/"
        },
        "id": "EUoZdHZrwtoS",
        "outputId": "b127a5b9-355e-44e3-af3f-a8b77fd92a8b"
      },
      "execution_count": 13,
      "outputs": [
        {
          "output_type": "stream",
          "name": "stdout",
          "text": [
            "The blue toy is flying!\n"
          ]
        }
      ]
    },
    {
      "cell_type": "code",
      "source": [
        "n.play()"
      ],
      "metadata": {
        "colab": {
          "base_uri": "https://localhost:8080/"
        },
        "id": "Hp1Qd7pmwvch",
        "outputId": "20cdfd27-7e6c-49e5-ce56-5cfa90e00c6a"
      },
      "execution_count": 14,
      "outputs": [
        {
          "output_type": "stream",
          "name": "stdout",
          "text": [
            "Let's play with the blue toy!\n"
          ]
        }
      ]
    },
    {
      "cell_type": "code",
      "source": [],
      "metadata": {
        "colab": {
          "base_uri": "https://localhost:8080/"
        },
        "id": "9FOLOkAHw4Ep",
        "outputId": "3f937b8d-ec3d-4d68-8c28-58272a4dd25d"
      },
      "execution_count": 15,
      "outputs": [
        {
          "output_type": "stream",
          "name": "stdout",
          "text": [
            "Calories\n",
            "Westland\n",
            "Calo\n",
            "Wes\n",
            "Ca\n",
            "West\n"
          ]
        }
      ]
    },
    {
      "cell_type": "code",
      "source": [],
      "metadata": {
        "id": "ThcsBmIIzJPD"
      },
      "execution_count": null,
      "outputs": []
    }
  ]
}