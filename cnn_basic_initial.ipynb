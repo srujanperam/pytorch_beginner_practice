{
  "nbformat": 4,
  "nbformat_minor": 0,
  "metadata": {
    "colab": {
      "provenance": [],
      "authorship_tag": "ABX9TyOEPgOxl1a1WXrc6bUaEGYB",
      "include_colab_link": true
    },
    "kernelspec": {
      "name": "python3",
      "display_name": "Python 3"
    },
    "language_info": {
      "name": "python"
    }
  },
  "cells": [
    {
      "cell_type": "markdown",
      "metadata": {
        "id": "view-in-github",
        "colab_type": "text"
      },
      "source": [
        "<a href=\"https://colab.research.google.com/github/srujanperam/pytorch_beginner_practice/blob/main/cnn_basic_initial.ipynb\" target=\"_parent\"><img src=\"https://colab.research.google.com/assets/colab-badge.svg\" alt=\"Open In Colab\"/></a>"
      ]
    },
    {
      "cell_type": "code",
      "execution_count": 1,
      "metadata": {
        "id": "N5PTP-4psb0a"
      },
      "outputs": [],
      "source": [
        "import torch\n",
        "from torch import nn\n",
        "import torch.nn.functional as F\n",
        "from torch.utils.data import DataLoader\n",
        "from torchvision import datasets, transforms\n",
        "from torchvision.utils import make_grid\n",
        "import numpy as np\n",
        "import pandas as pd\n",
        "from sklearn.metrics import confusion_matrix\n",
        "import itertools\n",
        "from tqdm.notebook import tqdm\n",
        "import seaborn as sns\n",
        "import matplotlib.pyplot as plt"
      ]
    },
    {
      "cell_type": "code",
      "source": [
        "# mnist = number of images, hieight, width, color channel\n",
        "# download and save the data\n",
        "transform = transforms.ToTensor()\n",
        "train_data = datasets.MNIST(root='/cnn_data', train=True, download=True, transform=transform)\n",
        "test_data = datasets.MNIST(root='/cnn_data', train=False, download=True, transform=transform)"
      ],
      "metadata": {
        "id": "nzqJbxpqukHu"
      },
      "execution_count": 2,
      "outputs": []
    },
    {
      "cell_type": "code",
      "source": [
        "train_data"
      ],
      "metadata": {
        "colab": {
          "base_uri": "https://localhost:8080/"
        },
        "id": "SzSAD2kcvNNN",
        "outputId": "73a12263-beef-4310-891b-ec81977c93c0"
      },
      "execution_count": 3,
      "outputs": [
        {
          "output_type": "execute_result",
          "data": {
            "text/plain": [
              "Dataset MNIST\n",
              "    Number of datapoints: 60000\n",
              "    Root location: /cnn_data\n",
              "    Split: Train\n",
              "    StandardTransform\n",
              "Transform: ToTensor()"
            ]
          },
          "metadata": {},
          "execution_count": 3
        }
      ]
    },
    {
      "cell_type": "code",
      "source": [
        "train_loader = DataLoader(train_data, batch_size=10, shuffle=True)\n",
        "test_loader = DataLoader(test_data, batch_size=10, shuffle=False)"
      ],
      "metadata": {
        "id": "5udaJijjvt_3"
      },
      "execution_count": 4,
      "outputs": []
    },
    {
      "cell_type": "code",
      "source": [
        "train_loader"
      ],
      "metadata": {
        "colab": {
          "base_uri": "https://localhost:8080/"
        },
        "id": "dwcXnfCmwv0q",
        "outputId": "7e7e8d9e-005f-4c89-c82b-b1c25601ec5c"
      },
      "execution_count": 5,
      "outputs": [
        {
          "output_type": "execute_result",
          "data": {
            "text/plain": [
              "<torch.utils.data.dataloader.DataLoader at 0x7fc991a50b80>"
            ]
          },
          "metadata": {},
          "execution_count": 5
        }
      ]
    },
    {
      "cell_type": "code",
      "source": [
        "# define cnn model\n",
        "# describe convolutional layer and what it's doing (2 convolution layers)\n",
        "\n",
        "conv1 = nn.Conv2d(in_channels=1, out_channels=6, kernel_size=3, stride=1, padding=0)\n",
        "# 6 outputs of conv1 becomes 6 inputs for conv2\n",
        "conv2 = nn.Conv2d(in_channels=6, out_channels=16, kernel_size=3, stride=1, padding=0)"
      ],
      "metadata": {
        "id": "rTaEAQ3Rwxjx"
      },
      "execution_count": 6,
      "outputs": []
    },
    {
      "cell_type": "code",
      "source": [
        "# get 1 mnist record/image\n",
        "\n",
        "for i, (X_train, y_train) in enumerate(train_loader):\n",
        "    break"
      ],
      "metadata": {
        "id": "XoRU9wO3x8ku"
      },
      "execution_count": 7,
      "outputs": []
    },
    {
      "cell_type": "code",
      "source": [
        "X_train.shape"
      ],
      "metadata": {
        "colab": {
          "base_uri": "https://localhost:8080/"
        },
        "id": "ssfgP3DqyF0h",
        "outputId": "34b8c1ea-0eac-490f-9eb9-f6a25c2aca2d"
      },
      "execution_count": 8,
      "outputs": [
        {
          "output_type": "execute_result",
          "data": {
            "text/plain": [
              "torch.Size([10, 1, 28, 28])"
            ]
          },
          "metadata": {},
          "execution_count": 8
        }
      ]
    },
    {
      "cell_type": "code",
      "source": [
        "x = X_train.view(10, 1, 28, 28)"
      ],
      "metadata": {
        "id": "tpHJRRO_yJdN"
      },
      "execution_count": 9,
      "outputs": []
    },
    {
      "cell_type": "code",
      "source": [
        "x = F.relu(conv1(x))"
      ],
      "metadata": {
        "id": "s-DTpwW0ySu2"
      },
      "execution_count": 10,
      "outputs": []
    },
    {
      "cell_type": "code",
      "source": [
        "x.shape"
      ],
      "metadata": {
        "colab": {
          "base_uri": "https://localhost:8080/"
        },
        "id": "eXb5lk1by7-z",
        "outputId": "fe2b1fec-5bc0-4ead-e1d9-36e973f611b8"
      },
      "execution_count": 11,
      "outputs": [
        {
          "output_type": "execute_result",
          "data": {
            "text/plain": [
              "torch.Size([10, 6, 26, 26])"
            ]
          },
          "metadata": {},
          "execution_count": 11
        }
      ]
    },
    {
      "cell_type": "code",
      "source": [
        "x = F.max_pool2d(x, 2, 2)"
      ],
      "metadata": {
        "id": "XqGVK03IurjE"
      },
      "execution_count": 12,
      "outputs": []
    },
    {
      "cell_type": "code",
      "source": [
        "x.shape"
      ],
      "metadata": {
        "colab": {
          "base_uri": "https://localhost:8080/"
        },
        "id": "DJj2JehSwk7-",
        "outputId": "6840be12-b9b2-4fca-bde0-02fb1394260a"
      },
      "execution_count": 13,
      "outputs": [
        {
          "output_type": "execute_result",
          "data": {
            "text/plain": [
              "torch.Size([10, 6, 13, 13])"
            ]
          },
          "metadata": {},
          "execution_count": 13
        }
      ]
    },
    {
      "cell_type": "code",
      "source": [
        "x = F.relu(conv2(x))"
      ],
      "metadata": {
        "id": "I1wxxxkiwoB7"
      },
      "execution_count": 14,
      "outputs": []
    },
    {
      "cell_type": "code",
      "source": [
        "x.shape"
      ],
      "metadata": {
        "colab": {
          "base_uri": "https://localhost:8080/"
        },
        "id": "5mgGuYSrxEvA",
        "outputId": "69c6959d-ff5e-4119-a4fb-43adc93ff1bf"
      },
      "execution_count": 15,
      "outputs": [
        {
          "output_type": "execute_result",
          "data": {
            "text/plain": [
              "torch.Size([10, 16, 11, 11])"
            ]
          },
          "metadata": {},
          "execution_count": 15
        }
      ]
    },
    {
      "cell_type": "code",
      "source": [
        "x = F.max_pool2d(x, 2, 2)"
      ],
      "metadata": {
        "id": "g-shiFPXxGIR"
      },
      "execution_count": 16,
      "outputs": []
    },
    {
      "cell_type": "code",
      "source": [
        "x.shape"
      ],
      "metadata": {
        "colab": {
          "base_uri": "https://localhost:8080/"
        },
        "id": "Jyk0Goj-xUlK",
        "outputId": "673e16c6-2516-42b6-80cb-7c97a066aef0"
      },
      "execution_count": 17,
      "outputs": [
        {
          "output_type": "execute_result",
          "data": {
            "text/plain": [
              "torch.Size([10, 16, 5, 5])"
            ]
          },
          "metadata": {},
          "execution_count": 17
        }
      ]
    },
    {
      "cell_type": "markdown",
      "source": [
        "![1686919918947.jpeg](data:image/jpeg;base64,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)"
      ],
      "metadata": {
        "id": "QClOjHrAyWPr"
      }
    },
    {
      "cell_type": "code",
      "source": [
        "class convolutionalNetwork(nn.Module):\n",
        "  def __init__(self):\n",
        "    super().__init__()\n",
        "\n",
        "    self.conv1 = nn.Conv2d(in_channels=1, out_channels=6, kernel_size=3, stride=1, padding=0)\n",
        "    self.conv2 = nn.Conv2d(in_channels=6, out_channels=16, kernel_size=3, stride=1, padding=0)\n",
        "\n",
        "    self.fc1 = nn.Linear(16 * 5 * 5, 120) # 120 is just playing number random\n",
        "    self.fc2 = nn.Linear(120, 84) # reducing 120 to 84 again 84 is random playing\n",
        "    self.fc3 = nn.Linear(84, 10) # ouput is 10\n",
        "\n",
        "  def forward(self, x):\n",
        "    x = F.relu(self.conv1(x))\n",
        "    x = F.max_pool2d(x, 2, 2)\n",
        "\n",
        "    x = F.relu(self.conv2(x))\n",
        "    x = F.max_pool2d(x, 2, 2)\n",
        "\n",
        "    x = x.view(-1, 16*5*5) # flattening the tensor\n",
        "    x = F.relu(self.fc1(x))\n",
        "    x = F.relu(self.fc2(x))\n",
        "    x = self.fc3(x)\n",
        "\n",
        "    return F.log_softmax(x, dim=1)"
      ],
      "metadata": {
        "id": "QQNmgBbaxVaX"
      },
      "execution_count": 18,
      "outputs": []
    },
    {
      "cell_type": "code",
      "source": [
        "# create an instance of our module\n",
        "torch.manual_seed(41)\n",
        "model = convolutionalNetwork()\n",
        "model"
      ],
      "metadata": {
        "colab": {
          "base_uri": "https://localhost:8080/"
        },
        "id": "IppojJrp1NEZ",
        "outputId": "d4e826fb-8de1-4e1b-a0b5-9ce3c8b23855"
      },
      "execution_count": 19,
      "outputs": [
        {
          "output_type": "execute_result",
          "data": {
            "text/plain": [
              "convolutionalNetwork(\n",
              "  (conv1): Conv2d(1, 6, kernel_size=(3, 3), stride=(1, 1))\n",
              "  (conv2): Conv2d(6, 16, kernel_size=(3, 3), stride=(1, 1))\n",
              "  (fc1): Linear(in_features=400, out_features=120, bias=True)\n",
              "  (fc2): Linear(in_features=120, out_features=84, bias=True)\n",
              "  (fc3): Linear(in_features=84, out_features=10, bias=True)\n",
              ")"
            ]
          },
          "metadata": {},
          "execution_count": 19
        }
      ]
    },
    {
      "cell_type": "code",
      "source": [
        "# loss funtion optimizer\n",
        "criterion = nn.CrossEntropyLoss()\n",
        "optimizer = torch.optim.Adam(model.parameters(), lr=0.001) # smaller learning rate"
      ],
      "metadata": {
        "id": "HJcir3Mw1YS7"
      },
      "execution_count": 20,
      "outputs": []
    },
    {
      "cell_type": "code",
      "source": [
        "import time\n",
        "start_time = time.time()\n",
        "\n",
        "# created variables to track things\n",
        "train_loss = []\n",
        "train_correct = []\n",
        "test_loss = []\n",
        "test_correct = []\n",
        "epochs = 5\n",
        "\n",
        "for i in range(epochs):\n",
        "  trn_corr = 0\n",
        "  tst_corr = 0\n",
        "\n",
        "  for b, (X_train, y_train) in enumerate(train_loader):\n",
        "    b += 1 # start out batches at 1\n",
        "    y_pred = model(X_train) # this is 2d\n",
        "    loss = criterion(y_pred, y_train) # how off are we? comparing pred and actuals\n",
        "\n",
        "    predicted = torch.max(y_pred.data, 1)[1] # add up number of correct predictions\n",
        "    batch_corr = (predicted == y_train).sum()\n",
        "\n",
        "    trn_corr += batch_corr\n",
        "\n",
        "    optimizer.zero_grad()\n",
        "    loss.backward()\n",
        "    optimizer.step()\n",
        "\n",
        "\n",
        "    if b % 600 == 0:\n",
        "      print(f'epoch: {i} batch: {b} loss: {loss.item()}')\n",
        "\n",
        "  train_loss.append(loss)\n",
        "  train_correct.append(trn_corr)\n",
        "\n",
        "  with torch.no_grad():\n",
        "    for b, (X_test, y_test) in enumerate(test_loader):\n",
        "      y_val = model(X_test)\n",
        "      predicted = torch.max(y_val.data, 1)[1]\n",
        "\n",
        "      tst_corr += (predicted == y_test).sum()\n",
        "\n",
        "  loss = criterion(y_val, y_test)\n",
        "  test_loss.append(loss)\n",
        "  test_correct.append(tst_corr)\n",
        "\n",
        "\n",
        "current_time = time.time()\n",
        "total = current_time - start_time\n",
        "print(f'training time: {total/60} minutes!!')"
      ],
      "metadata": {
        "colab": {
          "base_uri": "https://localhost:8080/"
        },
        "id": "z6gfG-hy1ylE",
        "outputId": "9b08f899-8ff7-481a-c1e5-70e531ba9341"
      },
      "execution_count": 21,
      "outputs": [
        {
          "output_type": "stream",
          "name": "stdout",
          "text": [
            "epoch: 0 batch: 600 loss: 0.1623610556125641\n",
            "epoch: 0 batch: 1200 loss: 0.1502392590045929\n",
            "epoch: 0 batch: 1800 loss: 0.4744560718536377\n",
            "epoch: 0 batch: 2400 loss: 0.14238706231117249\n",
            "epoch: 0 batch: 3000 loss: 0.007758188061416149\n",
            "epoch: 0 batch: 3600 loss: 0.3836284875869751\n",
            "epoch: 0 batch: 4200 loss: 0.0038223876617848873\n",
            "epoch: 0 batch: 4800 loss: 0.0021286322735249996\n",
            "epoch: 0 batch: 5400 loss: 0.0569545142352581\n",
            "epoch: 0 batch: 6000 loss: 0.00038789428072050214\n",
            "epoch: 1 batch: 600 loss: 0.005851339548826218\n",
            "epoch: 1 batch: 1200 loss: 0.3855525553226471\n",
            "epoch: 1 batch: 1800 loss: 0.004819948226213455\n",
            "epoch: 1 batch: 2400 loss: 0.003216963727027178\n",
            "epoch: 1 batch: 3000 loss: 0.0332382395863533\n",
            "epoch: 1 batch: 3600 loss: 0.5372857451438904\n",
            "epoch: 1 batch: 4200 loss: 0.04561494290828705\n",
            "epoch: 1 batch: 4800 loss: 0.0007510822033509612\n",
            "epoch: 1 batch: 5400 loss: 0.0001173773780465126\n",
            "epoch: 1 batch: 6000 loss: 0.14201366901397705\n",
            "epoch: 2 batch: 600 loss: 0.023733172565698624\n",
            "epoch: 2 batch: 1200 loss: 0.003455493599176407\n",
            "epoch: 2 batch: 1800 loss: 0.0008372392621822655\n",
            "epoch: 2 batch: 2400 loss: 0.010705141350626945\n",
            "epoch: 2 batch: 3000 loss: 0.008078320883214474\n",
            "epoch: 2 batch: 3600 loss: 0.0011862406972795725\n",
            "epoch: 2 batch: 4200 loss: 0.038080841302871704\n",
            "epoch: 2 batch: 4800 loss: 0.0016068397089838982\n",
            "epoch: 2 batch: 5400 loss: 0.138673797249794\n",
            "epoch: 2 batch: 6000 loss: 0.2449204921722412\n",
            "epoch: 3 batch: 600 loss: 0.007151054684072733\n",
            "epoch: 3 batch: 1200 loss: 0.011097034439444542\n",
            "epoch: 3 batch: 1800 loss: 0.0017998721450567245\n",
            "epoch: 3 batch: 2400 loss: 0.0001049584461725317\n",
            "epoch: 3 batch: 3000 loss: 0.0031431831885129213\n",
            "epoch: 3 batch: 3600 loss: 0.003668801160529256\n",
            "epoch: 3 batch: 4200 loss: 0.0037249946035444736\n",
            "epoch: 3 batch: 4800 loss: 0.00015864608576521277\n",
            "epoch: 3 batch: 5400 loss: 0.0796482041478157\n",
            "epoch: 3 batch: 6000 loss: 0.0808732658624649\n",
            "epoch: 4 batch: 600 loss: 0.014099588617682457\n",
            "epoch: 4 batch: 1200 loss: 0.0382874570786953\n",
            "epoch: 4 batch: 1800 loss: 0.16302265226840973\n",
            "epoch: 4 batch: 2400 loss: 0.02186887338757515\n",
            "epoch: 4 batch: 3000 loss: 0.0024396399967372417\n",
            "epoch: 4 batch: 3600 loss: 0.0013979513896629214\n",
            "epoch: 4 batch: 4200 loss: 0.000989563181065023\n",
            "epoch: 4 batch: 4800 loss: 0.010317974723875523\n",
            "epoch: 4 batch: 5400 loss: 0.16506639122962952\n",
            "epoch: 4 batch: 6000 loss: 0.0027098222635686398\n",
            "training time: 3.8065001130104066 minutes!!\n"
          ]
        }
      ]
    },
    {
      "cell_type": "code",
      "source": [
        "test_load_everything = torch.utils.data.DataLoader(test_data, batch_size=10000, shuffle=True)\n",
        "with torch.no_grad():\n",
        "  correct = 0\n",
        "  for X_test, y_test in test_load_everything:\n",
        "    y_val = model(X_test)\n",
        "    predicted = torch.max(y_val.data, 1)[1]\n",
        "    correct += (predicted == y_test).sum()"
      ],
      "metadata": {
        "id": "mnIHVIl57SsW"
      },
      "execution_count": 23,
      "outputs": []
    },
    {
      "cell_type": "code",
      "source": [
        " correct"
      ],
      "metadata": {
        "colab": {
          "base_uri": "https://localhost:8080/"
        },
        "id": "iGcvjJ5o79LR",
        "outputId": "d48d624b-19a4-4b60-eac7-11b62e1dcfba"
      },
      "execution_count": 24,
      "outputs": [
        {
          "output_type": "execute_result",
          "data": {
            "text/plain": [
              "tensor(9857)"
            ]
          },
          "metadata": {},
          "execution_count": 24
        }
      ]
    },
    {
      "cell_type": "code",
      "source": [],
      "metadata": {
        "id": "tvad3hmRCP1z"
      },
      "execution_count": null,
      "outputs": []
    }
  ]
}