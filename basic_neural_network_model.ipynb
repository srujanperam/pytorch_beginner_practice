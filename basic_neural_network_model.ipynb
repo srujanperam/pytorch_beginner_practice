{
  "nbformat": 4,
  "nbformat_minor": 0,
  "metadata": {
    "colab": {
      "provenance": [],
      "authorship_tag": "ABX9TyPTMRqToAUJSTc59N3CxDo5",
      "include_colab_link": true
    },
    "kernelspec": {
      "name": "python3",
      "display_name": "Python 3"
    },
    "language_info": {
      "name": "python"
    }
  },
  "cells": [
    {
      "cell_type": "markdown",
      "metadata": {
        "id": "view-in-github",
        "colab_type": "text"
      },
      "source": [
        "<a href=\"https://colab.research.google.com/github/srujanperam/pytorch_beginner_practice/blob/main/basic_neural_network_model.ipynb\" target=\"_parent\"><img src=\"https://colab.research.google.com/assets/colab-badge.svg\" alt=\"Open In Colab\"/></a>"
      ]
    },
    {
      "cell_type": "code",
      "execution_count": 37,
      "metadata": {
        "id": "Pg2k3TTDpohg"
      },
      "outputs": [],
      "source": [
        "import torch\n",
        "import torch.nn as nn\n",
        "import torch.nn.functional as F"
      ]
    },
    {
      "cell_type": "code",
      "source": [
        "class Model(nn.Module):\n",
        "    # hidden layer 1 is hidden number of neurons\n",
        "    # h2 output is classification\n",
        "    def __init__(self, in_features=4, h1=8, h2=9, out_feature=3):\n",
        "        super().__init__() # instantiate nn.Module\n",
        "\n",
        "        self.fc1 = nn.Linear(in_features, h1)\n",
        "        self.fc2 = nn.Linear(h1, h2)\n",
        "        self.out = nn.Linear(h2, out_feature)\n",
        "\n",
        "    def forward(self, x):\n",
        "        x = F.relu(self.fc1(x))\n",
        "        x = F.relu(self.fc2(x))\n",
        "        x = self.out(x)\n",
        "        return x"
      ],
      "metadata": {
        "id": "tKlgsBJnpzGe"
      },
      "execution_count": 38,
      "outputs": []
    },
    {
      "cell_type": "code",
      "source": [
        "torch.manual_seed(41)\n",
        "model = Model()"
      ],
      "metadata": {
        "id": "VYKX5MR5r5L7"
      },
      "execution_count": 39,
      "outputs": []
    },
    {
      "cell_type": "code",
      "source": [
        "import pandas as pd\n",
        "import matplotlib.pyplot as plt\n",
        "%matplotlib inline"
      ],
      "metadata": {
        "id": "sHgmYM5Qt-4t"
      },
      "execution_count": 40,
      "outputs": []
    },
    {
      "cell_type": "code",
      "source": [
        "url = 'https://raw.githubusercontent.com/uiuc-cse/data-fa14/gh-pages/data/iris.csv'\n",
        "df = pd.read_csv(url)"
      ],
      "metadata": {
        "id": "vGQfDI8Lt-1q"
      },
      "execution_count": 41,
      "outputs": []
    },
    {
      "cell_type": "code",
      "source": [
        "df.species.replace({\"setosa\": 0.0, \"versicolor\": 1.0, \"virginica\": 2.0}, inplace=True)"
      ],
      "metadata": {
        "colab": {
          "base_uri": "https://localhost:8080/"
        },
        "id": "zIixoVaq2EaY",
        "outputId": "c5a7bfb5-947b-4fc8-ed4c-0aa64101b7b9"
      },
      "execution_count": 42,
      "outputs": [
        {
          "output_type": "stream",
          "name": "stderr",
          "text": [
            "<ipython-input-42-71ee608b18b1>:1: FutureWarning: A value is trying to be set on a copy of a DataFrame or Series through chained assignment using an inplace method.\n",
            "The behavior will change in pandas 3.0. This inplace method will never work because the intermediate object on which we are setting values always behaves as a copy.\n",
            "\n",
            "For example, when doing 'df[col].method(value, inplace=True)', try using 'df.method({col: value}, inplace=True)' or df[col] = df[col].method(value) instead, to perform the operation inplace on the original object.\n",
            "\n",
            "\n",
            "  df.species.replace({\"setosa\": 0.0, \"versicolor\": 1.0, \"virginica\": 2.0}, inplace=True)\n",
            "<ipython-input-42-71ee608b18b1>:1: FutureWarning: Downcasting behavior in `replace` is deprecated and will be removed in a future version. To retain the old behavior, explicitly call `result.infer_objects(copy=False)`. To opt-in to the future behavior, set `pd.set_option('future.no_silent_downcasting', True)`\n",
            "  df.species.replace({\"setosa\": 0.0, \"versicolor\": 1.0, \"virginica\": 2.0}, inplace=True)\n"
          ]
        }
      ]
    },
    {
      "cell_type": "code",
      "source": [
        "X = df.drop(\"species\", axis=1).values\n",
        "y = df.species.values"
      ],
      "metadata": {
        "id": "k7jCIZhX2E3A"
      },
      "execution_count": 43,
      "outputs": []
    },
    {
      "cell_type": "code",
      "source": [
        "from sklearn.model_selection import train_test_split"
      ],
      "metadata": {
        "id": "1NoZSMT32m-X"
      },
      "execution_count": 44,
      "outputs": []
    },
    {
      "cell_type": "code",
      "source": [
        "X_train, X_test, y_train, y_test = train_test_split(X, y, test_size=0.2, random_state=41)"
      ],
      "metadata": {
        "id": "jK9G6TCD2tuf"
      },
      "execution_count": 45,
      "outputs": []
    },
    {
      "cell_type": "code",
      "source": [
        "X_train = torch.FloatTensor(X_train)\n",
        "X_test = torch.FloatTensor(X_test)\n",
        "y_train = torch.LongTensor(y_train)\n",
        "y_test = torch.LongTensor(y_test)"
      ],
      "metadata": {
        "id": "BWrpvrBB2uaP"
      },
      "execution_count": 46,
      "outputs": []
    },
    {
      "cell_type": "code",
      "source": [
        "criterion = nn.CrossEntropyLoss()\n",
        "optimizer = torch.optim.Adam(model.parameters(), lr=0.01)"
      ],
      "metadata": {
        "id": "HEaRCbUu3bK7"
      },
      "execution_count": 47,
      "outputs": []
    },
    {
      "cell_type": "code",
      "source": [
        "model.train()\n",
        "epochs = 300\n",
        "losses = []\n",
        "\n",
        "for i in range(epochs):\n",
        "    y_pred = model.forward(X_train)\n",
        "    loss = criterion(y_pred, y_train)\n",
        "    losses.append(loss.detach().numpy())\n",
        "\n",
        "    if i%10 == 0:\n",
        "        print(f'Epoch: {i} Loss: {loss}')\n",
        "\n",
        "    optimizer.zero_grad()\n",
        "    loss.backward()\n",
        "    optimizer.step()"
      ],
      "metadata": {
        "colab": {
          "base_uri": "https://localhost:8080/"
        },
        "id": "e7IDuTeN4Nwo",
        "outputId": "2773260a-6bae-489a-a407-c7ac51f77822"
      },
      "execution_count": 48,
      "outputs": [
        {
          "output_type": "stream",
          "name": "stdout",
          "text": [
            "Epoch: 0 Loss: 1.1251550912857056\n",
            "Epoch: 10 Loss: 1.0096259117126465\n",
            "Epoch: 20 Loss: 0.8157405853271484\n",
            "Epoch: 30 Loss: 0.585706353187561\n",
            "Epoch: 40 Loss: 0.3999636471271515\n",
            "Epoch: 50 Loss: 0.26768800616264343\n",
            "Epoch: 60 Loss: 0.17942361533641815\n",
            "Epoch: 70 Loss: 0.12151690572500229\n",
            "Epoch: 80 Loss: 0.0860118493437767\n",
            "Epoch: 90 Loss: 0.06520850956439972\n",
            "Epoch: 100 Loss: 0.05286576226353645\n",
            "Epoch: 110 Loss: 0.04508381709456444\n",
            "Epoch: 120 Loss: 0.03979949280619621\n",
            "Epoch: 130 Loss: 0.035970740020275116\n",
            "Epoch: 140 Loss: 0.03293721750378609\n",
            "Epoch: 150 Loss: 0.03041938506066799\n",
            "Epoch: 160 Loss: 0.026795217767357826\n",
            "Epoch: 170 Loss: 0.02338254824280739\n",
            "Epoch: 180 Loss: 0.020531881600618362\n",
            "Epoch: 190 Loss: 0.018495969474315643\n",
            "Epoch: 200 Loss: 0.016802635043859482\n",
            "Epoch: 210 Loss: 0.015519778244197369\n",
            "Epoch: 220 Loss: 0.014496986754238605\n",
            "Epoch: 230 Loss: 0.013443661853671074\n",
            "Epoch: 240 Loss: 0.012677091173827648\n",
            "Epoch: 250 Loss: 0.011877342127263546\n",
            "Epoch: 260 Loss: 0.01128967385739088\n",
            "Epoch: 270 Loss: 0.010908301919698715\n",
            "Epoch: 280 Loss: 0.010098334401845932\n",
            "Epoch: 290 Loss: 0.009513933211565018\n"
          ]
        }
      ]
    },
    {
      "cell_type": "code",
      "source": [
        "plt.plot(range(epochs), losses)\n",
        "plt.ylabel('Loss')\n",
        "plt.xlabel('Epoch')"
      ],
      "metadata": {
        "colab": {
          "base_uri": "https://localhost:8080/",
          "height": 466
        },
        "id": "X1lWj7It6-sl",
        "outputId": "3ced95fa-09fa-4b11-93cd-f8b4640a6704"
      },
      "execution_count": 49,
      "outputs": [
        {
          "output_type": "execute_result",
          "data": {
            "text/plain": [
              "Text(0.5, 0, 'Epoch')"
            ]
          },
          "metadata": {},
          "execution_count": 49
        },
        {
          "output_type": "display_data",
          "data": {
            "text/plain": [
              "<Figure size 640x480 with 1 Axes>"
            ],
            "image/png": "[encoded data removed]"
          },
          "metadata": {}
        }
      ]
    },
    {
      "cell_type": "code",
      "source": [
        "with torch.no_grad():\n",
        "    y_eval = model.forward(X_test)\n",
        "    loss = criterion(y_eval, y_test)"
      ],
      "metadata": {
        "id": "SvA52qVY7lp1"
      },
      "execution_count": 50,
      "outputs": []
    },
    {
      "cell_type": "code",
      "source": [
        "loss"
      ],
      "metadata": {
        "colab": {
          "base_uri": "https://localhost:8080/"
        },
        "id": "ZGv3f_9y8ltm",
        "outputId": "5e39a94d-eb72-4be7-d200-cee473ba1f49"
      },
      "execution_count": 51,
      "outputs": [
        {
          "output_type": "execute_result",
          "data": {
            "text/plain": [
              "tensor(0.2781)"
            ]
          },
          "metadata": {},
          "execution_count": 51
        }
      ]
    },
    {
      "cell_type": "code",
      "source": [
        "correct = 0\n",
        "with torch.no_grad():\n",
        "    for i, data in enumerate(X_test):\n",
        "        y_val = model.forward(data)\n",
        "\n",
        "        print(f'{i+1}. {str(data.numpy()):25} {y_val.argmax().item()} {y_test[i]}')\n",
        "\n",
        "        if y_val.argmax().item() == y_test[i]:\n",
        "            correct += 1\n",
        "\n",
        "print(f\"you got {correct}\")"
      ],
      "metadata": {
        "colab": {
          "base_uri": "https://localhost:8080/"
        },
        "id": "hzELnW6k8mjN",
        "outputId": "63807339-b6bd-4c2b-c2fd-60af245be5f1"
      },
      "execution_count": 52,
      "outputs": [
        {
          "output_type": "stream",
          "name": "stdout",
          "text": [
            "1. [6.  2.2 5.  1.5]         2 2\n",
            "2. [6.4 2.8 5.6 2.1]         2 2\n",
            "3. [7.7 3.  6.1 2.3]         2 2\n",
            "4. [6.1 3.  4.6 1.4]         1 1\n",
            "5. [6.8 3.  5.5 2.1]         2 2\n",
            "6. [6.1 2.8 4.  1.3]         1 1\n",
            "7. [6.3 2.7 4.9 1.8]         2 2\n",
            "8. [6.  3.4 4.5 1.6]         1 1\n",
            "9. [6.5 3.  5.2 2. ]         2 2\n",
            "10. [6.8 3.2 5.9 2.3]         2 2\n",
            "11. [6.1 3.  4.9 1.8]         2 2\n",
            "12. [5.1 3.4 1.5 0.2]         0 0\n",
            "13. [4.4 3.  1.3 0.2]         0 0\n",
            "14. [5.  2.3 3.3 1. ]         1 1\n",
            "15. [5.1 3.3 1.7 0.5]         0 0\n",
            "16. [6.3 2.8 5.1 1.5]         1 2\n",
            "17. [4.8 3.1 1.6 0.2]         0 0\n",
            "18. [6.  2.7 5.1 1.6]         2 1\n",
            "19. [4.9 3.1 1.5 0.1]         0 0\n",
            "20. [4.5 2.3 1.3 0.3]         0 0\n",
            "21. [5.5 2.4 3.7 1. ]         1 1\n",
            "22. [6.9 3.2 5.7 2.3]         2 2\n",
            "23. [5.  3.5 1.6 0.6]         0 0\n",
            "24. [4.7 3.2 1.3 0.2]         0 0\n",
            "25. [5.6 2.9 3.6 1.3]         1 1\n",
            "26. [6.  2.2 4.  1. ]         1 1\n",
            "27. [6.3 3.3 4.7 1.6]         1 1\n",
            "28. [5.8 2.7 4.1 1. ]         1 1\n",
            "29. [5.  3.3 1.4 0.2]         0 0\n",
            "30. [6.1 2.9 4.7 1.4]         1 1\n",
            "you got 28\n"
          ]
        }
      ]
    },
    {
      "cell_type": "code",
      "source": [
        "new_data = torch.tensor([5.1, 3.5, 1.4, 0.2])"
      ],
      "metadata": {
        "id": "sObJIC_n9RBl"
      },
      "execution_count": 53,
      "outputs": []
    },
    {
      "cell_type": "code",
      "source": [
        "with torch.no_grad():\n",
        "    print(model.forward(new_data))"
      ],
      "metadata": {
        "colab": {
          "base_uri": "https://localhost:8080/"
        },
        "id": "RPLF6WKD_AQD",
        "outputId": "6633983c-be17-4711-ba00-beaf7d22f66a"
      },
      "execution_count": 54,
      "outputs": [
        {
          "output_type": "stream",
          "name": "stdout",
          "text": [
            "tensor([ 29.9588,  19.6237, -47.4240])\n"
          ]
        }
      ]
    },
    {
      "cell_type": "code",
      "source": [
        "new_data = torch.tensor([4.9, 3.0, 1.4, 0.2])"
      ],
      "metadata": {
        "id": "JYm7goox_PEX"
      },
      "execution_count": 55,
      "outputs": []
    },
    {
      "cell_type": "code",
      "source": [
        "with torch.no_grad():\n",
        "    print(model.forward(new_data))"
      ],
      "metadata": {
        "colab": {
          "base_uri": "https://localhost:8080/"
        },
        "id": "oeqmv668_bky",
        "outputId": "f86675ac-e990-4e1c-8370-d6d7e147b4ae"
      },
      "execution_count": 56,
      "outputs": [
        {
          "output_type": "stream",
          "name": "stdout",
          "text": [
            "tensor([ 27.4873,  18.3247, -43.6906])\n"
          ]
        }
      ]
    },
    {
      "cell_type": "code",
      "source": [
        "new_data = torch.tensor([2.6, 2.2, 5.1, 0.1])\n",
        "with torch.no_grad():\n",
        "    print(model.forward(new_data))"
      ],
      "metadata": {
        "colab": {
          "base_uri": "https://localhost:8080/"
        },
        "id": "dTdvhZP5_c4g",
        "outputId": "aea267b5-6075-4a71-a1be-39692fe8a34f"
      },
      "execution_count": 62,
      "outputs": [
        {
          "output_type": "stream",
          "name": "stdout",
          "text": [
            "tensor([-3.5138,  0.7361,  6.6839])\n"
          ]
        }
      ]
    },
    {
      "cell_type": "code",
      "source": [
        "torch.save(model.state_dict(), 'iris_model.pt')"
      ],
      "metadata": {
        "id": "jMkTH54O_qv5"
      },
      "execution_count": 63,
      "outputs": []
    },
    {
      "cell_type": "code",
      "source": [
        "new_model = Model()\n",
        "new_model.load_state_dict(torch.load('iris_model.pt'))"
      ],
      "metadata": {
        "colab": {
          "base_uri": "https://localhost:8080/"
        },
        "id": "jiYzU9yJAWjs",
        "outputId": "c642ac27-f651-4607-d727-774209d985ed"
      },
      "execution_count": 64,
      "outputs": [
        {
          "output_type": "stream",
          "name": "stderr",
          "text": [
            "<ipython-input-64-7c1c09c835da>:2: FutureWarning: You are using `torch.load` with `weights_only=False` (the current default value), which uses the default pickle module implicitly. It is possible to construct malicious pickle data which will execute arbitrary code during unpickling (See https://github.com/pytorch/pytorch/blob/main/SECURITY.md#untrusted-models for more details). In a future release, the default value for `weights_only` will be flipped to `True`. This limits the functions that could be executed during unpickling. Arbitrary objects will no longer be allowed to be loaded via this mode unless they are explicitly allowlisted by the user via `torch.serialization.add_safe_globals`. We recommend you start setting `weights_only=True` for any use case where you don't have full control of the loaded file. Please open an issue on GitHub for any issues related to this experimental feature.\n",
            "  new_model.load_state_dict(torch.load('iris_model.pt'))\n"
          ]
        },
        {
          "output_type": "execute_result",
          "data": {
            "text/plain": [
              "<All keys matched successfully>"
            ]
          },
          "metadata": {},
          "execution_count": 64
        }
      ]
    },
    {
      "cell_type": "code",
      "source": [
        "new_model.eval()"
      ],
      "metadata": {
        "colab": {
          "base_uri": "https://localhost:8080/"
        },
        "id": "u0sJwHVDAeT7",
        "outputId": "f77da9c3-307a-44a9-bd4a-3a9fc4175389"
      },
      "execution_count": 65,
      "outputs": [
        {
          "output_type": "execute_result",
          "data": {
            "text/plain": [
              "Model(\n",
              "  (fc1): Linear(in_features=4, out_features=8, bias=True)\n",
              "  (fc2): Linear(in_features=8, out_features=9, bias=True)\n",
              "  (out): Linear(in_features=9, out_features=3, bias=True)\n",
              ")"
            ]
          },
          "metadata": {},
          "execution_count": 65
        }
      ]
    },
    {
      "cell_type": "code",
      "source": [],
      "metadata": {
        "id": "s7AyeLrpAhce"
      },
      "execution_count": null,
      "outputs": []
    }
  ]
}